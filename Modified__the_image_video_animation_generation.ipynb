{
  "nbformat": 4,
  "nbformat_minor": 0,
  "metadata": {
    "colab": {
      "provenance": [],
      "include_colab_link": true
    },
    "kernelspec": {
      "name": "python3",
      "display_name": "Python 3"
    },
    "language_info": {
      "name": "python"
    }
  },
  "cells": [
    {
      "cell_type": "markdown",
      "metadata": {
        "id": "view-in-github",
        "colab_type": "text"
      },
      "source": [
        "<a href=\"https://colab.research.google.com/github/abhay45212/GenAI/blob/main/Modified__the_image_video_animation_generation.ipynb\" target=\"_parent\"><img src=\"https://colab.research.google.com/assets/colab-badge.svg\" alt=\"Open In Colab\"/></a>"
      ]
    },
    {
      "cell_type": "markdown",
      "source": [
        "# Project Title : ** Gen AI Image and GIF Generator using Replicate**\n",
        "\n",
        "# **Brief description of the Project scope :**\n",
        "\n",
        "Replicate's Image and GIF Generative AI will be added to the project so that users can use AI-driven processes to make a wide range of visually pleasing content. Part of this is getting to know Replicate's model powers, making it easy to work with the API, and making an easy-to-use user interface for creating content based on prompts.\n",
        "\n",
        "\n",
        "\n",
        "\n",
        "\n",
        "\n",
        "\n",
        "\n"
      ],
      "metadata": {
        "id": "ZWRrPYjU-FnH"
      }
    },
    {
      "cell_type": "markdown",
      "source": [
        "# **Group Members :**\n",
        "\n",
        "\n",
        "* Jashapreet Singh  4345206\n",
        "* Abhay 4345212\n",
        "\n"
      ],
      "metadata": {
        "id": "8ugcCz4l9POS"
      }
    },
    {
      "cell_type": "markdown",
      "source": [
        "#**Detailed Project Description**\n",
        "A dynamic GenAI GIF and Image Generator will be developed for this project with the assistance of the Replicate library. A dynamic platform for the development of individualized pictures and GIFs will be provided by it. It will be able to comprehend vocal cues by using advanced language models in order to generate original and cutting-edge visual material."
      ],
      "metadata": {
        "id": "tEJz7-cfDDWQ"
      }
    },
    {
      "cell_type": "markdown",
      "source": [],
      "metadata": {
        "id": "n6gQViQiDphK"
      }
    },
    {
      "cell_type": "markdown",
      "source": [
        "# **Modification/New Addition Specification**\n",
        "\n",
        "- The project will include improvements to Replicate's Image and GIF Generative AI, with a focus on making models smarter and making API interactions better.\n",
        "- One of the new features is improved alert handling, which lets you make more complex content.\n",
        "- The user interface will be improved so that it is easier to use. These changes are meant to make the project more useful and interesting for users while also showing off Replicate's growing AI skills in making images and GIFs..\n",
        "\n",
        "## **Justification And Impact**\n",
        "\n",
        "-These changes and improvements are meant to make the project more significant by improving Replicate's AI skills.\n",
        "- Better model development and advanced prompt handling make creating content more detailed and tailored to each user.\n",
        "- The improved user design makes it easy for everyone to use. In total, these changes make Replicate a more useful and flexible tool for artistic expression, making it more useful for people who want to tell unique stories through pictures and GIFs.\n",
        "\n",
        "\n"
      ],
      "metadata": {
        "id": "DDwC-cRK2C_x"
      }
    },
    {
      "cell_type": "markdown",
      "source": [
        "# **Criteria-Specific Cell**\n",
        "\n",
        "## **Replicate's Image and GIF Generative AI project relevance:**\n",
        "\n",
        "- The project is important because it meets the growing need for new AI-driven content creation. It does this by using Replicate's Image and GIF Generative AI to meet the needs of users in artistic areas, marketing, and education.\n",
        "-  The project is a big step forward in the field of AI-powered visual content creation, and it shows how Replicate helps to make the process of making digital content more creative and efficient, which leads to a more interesting and lively digital world.Making stuff.\n",
        "\n",
        "##**Application**\n",
        "Representative Replicate's Image and GIF Generative AI project can be used in marketing, teaching, and the artistic industries.\n",
        "- It makes it easy for users to make a wide range of visual content that fits their needs. This flexible tool speeds up the process of making content, encouraging new ways of telling stories and expressing art online while showing off Replicate's powerful AI abilities.\n",
        "\n",
        "## **Innovation**\n",
        "\n",
        "\n",
        "The innovative part of Replicate's Image and GIF Generative AI project is how it changes the way material is made. It changes the way visual stories are told by using cutting-edge AI models. Advanced algorithms, better handling of prompts, and an easy-to-use interface give users creative options that have never been seen before. This new idea is a big step forward and shows that Replicate is dedicated to expanding the possibilities of generated art and making the creative world better.\n",
        "\n",
        "## **Technical proficiency**\n",
        "\n",
        "- Achieving technical proficiency in the Replicate's Image and GIF Generative AI project involves mastering the integration of Replicate API.\n",
        "- It encompasses a thorough understanding of AI model configurations within Replicate, optimizing API calls, and implementing prompt-based user interactions.\n",
        "- Proficiency extends to managing API responses, handling errors, and ensuring seamless functionality, demonstrating expertise in Replicate's advanced AI tools."
      ],
      "metadata": {
        "id": "6cfvQgVYFl6W"
      }
    },
    {
      "cell_type": "markdown",
      "source": [
        "# **1.Installing the Replicate library.**\n",
        "\n",
        "The \"Replicate\" library is installed by the pip package manager in the given code. Quick and easy, this method brings Replicate to the Python environment so users can start using its features right away.\n"
      ],
      "metadata": {
        "id": "vKzL0U3a6wlx"
      }
    },
    {
      "cell_type": "code",
      "execution_count": null,
      "metadata": {
        "colab": {
          "base_uri": "https://localhost:8080/"
        },
        "id": "CjlbJnxO2w-h",
        "outputId": "2078fc33-d713-4f95-e324-6021a2bc0377"
      },
      "outputs": [
        {
          "output_type": "stream",
          "name": "stdout",
          "text": [
            "Collecting replicate\n",
            "  Downloading replicate-0.21.0-py3-none-any.whl (34 kB)\n",
            "Collecting httpx<1,>=0.21.0 (from replicate)\n",
            "  Downloading httpx-0.25.2-py3-none-any.whl (74 kB)\n",
            "\u001b[2K     \u001b[90m━━━━━━━━━━━━━━━━━━━━━━━━━━━━━━━━━━━━━━━━\u001b[0m \u001b[32m75.0/75.0 kB\u001b[0m \u001b[31m1.8 MB/s\u001b[0m eta \u001b[36m0:00:00\u001b[0m\n",
            "\u001b[?25hRequirement already satisfied: packaging in /usr/local/lib/python3.10/dist-packages (from replicate) (23.2)\n",
            "Requirement already satisfied: pydantic>1 in /usr/local/lib/python3.10/dist-packages (from replicate) (1.10.13)\n",
            "Requirement already satisfied: typing-extensions>=4.5.0 in /usr/local/lib/python3.10/dist-packages (from replicate) (4.5.0)\n",
            "Requirement already satisfied: anyio in /usr/local/lib/python3.10/dist-packages (from httpx<1,>=0.21.0->replicate) (3.7.1)\n",
            "Requirement already satisfied: certifi in /usr/local/lib/python3.10/dist-packages (from httpx<1,>=0.21.0->replicate) (2023.11.17)\n",
            "Collecting httpcore==1.* (from httpx<1,>=0.21.0->replicate)\n",
            "  Downloading httpcore-1.0.2-py3-none-any.whl (76 kB)\n",
            "\u001b[2K     \u001b[90m━━━━━━━━━━━━━━━━━━━━━━━━━━━━━━━━━━━━━━━━\u001b[0m \u001b[32m76.9/76.9 kB\u001b[0m \u001b[31m7.8 MB/s\u001b[0m eta \u001b[36m0:00:00\u001b[0m\n",
            "\u001b[?25hRequirement already satisfied: idna in /usr/local/lib/python3.10/dist-packages (from httpx<1,>=0.21.0->replicate) (3.6)\n",
            "Requirement already satisfied: sniffio in /usr/local/lib/python3.10/dist-packages (from httpx<1,>=0.21.0->replicate) (1.3.0)\n",
            "Collecting h11<0.15,>=0.13 (from httpcore==1.*->httpx<1,>=0.21.0->replicate)\n",
            "  Downloading h11-0.14.0-py3-none-any.whl (58 kB)\n",
            "\u001b[2K     \u001b[90m━━━━━━━━━━━━━━━━━━━━━━━━━━━━━━━━━━━━━━━━\u001b[0m \u001b[32m58.3/58.3 kB\u001b[0m \u001b[31m7.1 MB/s\u001b[0m eta \u001b[36m0:00:00\u001b[0m\n",
            "\u001b[?25hRequirement already satisfied: exceptiongroup in /usr/local/lib/python3.10/dist-packages (from anyio->httpx<1,>=0.21.0->replicate) (1.2.0)\n",
            "Installing collected packages: h11, httpcore, httpx, replicate\n",
            "Successfully installed h11-0.14.0 httpcore-1.0.2 httpx-0.25.2 replicate-0.21.0\n"
          ]
        }
      ],
      "source": [
        "# @title Install Replicate\n",
        "!pip install replicate\n"
      ]
    },
    {
      "cell_type": "markdown",
      "source": [
        "# **2.Providing the environment with a Replicate API token.**\n",
        "\n",
        "The Replicate API token is used to verify this code sample. The provided API key is added to the environment variable \"REPLICATE_API_TOKEN,\" which makes it safe to use Replicate services. Users can get their API key from Replicate's website so that they can prove who they are.\n",
        "\n"
      ],
      "metadata": {
        "id": "-EtGiSrD69zX"
      }
    },
    {
      "cell_type": "code",
      "source": [
        "API = \"r8_RAisqY3m88b4sezG2M7aITwQkbdnRUu3MgLsr\"\n",
        "import os\n",
        "\n",
        "os.environ[\"REPLICATE_API_TOKEN\"] = API #find it here: https://replicate.com/signin?next=/account/api-tokens\n"
      ],
      "metadata": {
        "id": "zX0YyZI_3dx6"
      },
      "execution_count": null,
      "outputs": []
    },
    {
      "cell_type": "markdown",
      "source": [
        "# **3 . Gereation of image as per the prompt**\n",
        "\n",
        "This code uses the Replicate library to make a picture based on the string \"a sports car is running.\"\n",
        "\n",
        "By using the given model (stability-ai/stable-diffusion), it creates graphic content, showing Replicate's ability to make creative images."
      ],
      "metadata": {
        "id": "sH5YFxFX7NVP"
      }
    },
    {
      "cell_type": "code",
      "source": [
        "# @title Generate Image\n",
        "prompt = \"frog is on a leaf in a pond\"\n",
        "import replicate\n",
        "\n",
        "output = replicate.run(\n",
        "  \"stability-ai/stable-diffusion:27b93a2413e7f36cd83da926f3656280b2931564ff050bf9575f1fdf9bcd7478\",\n",
        "  input={\"prompt\":prompt}\n",
        ")\n",
        "\n",
        "output"
      ],
      "metadata": {
        "colab": {
          "base_uri": "https://localhost:8080/"
        },
        "id": "b9jB54-K3p48",
        "outputId": "119f25c4-b730-4d66-8c65-0decd8bd3658"
      },
      "execution_count": null,
      "outputs": [
        {
          "output_type": "execute_result",
          "data": {
            "text/plain": [
              "['https://replicate.delivery/pbxt/GC3OEJzpCG6eJKNO5xvpkoDKxAI9boK1qe5RKPleQITPph9jA/out-0.png']"
            ]
          },
          "metadata": {},
          "execution_count": 3
        }
      ]
    },
    {
      "cell_type": "markdown",
      "source": [
        "# **4.Using IPython's picture class to show a Replicate-made picture in Jupyter Notebook so that it can be looked at..**\n",
        "This code uses IPython to show the picture that was made and saved in the variable \"output_image.\" It uses the \"Image\" function to show the result in a graphic way, making it easy to show what the Replicate image-making process produced in the Jupyter Notebook setting.\n",
        "\n"
      ],
      "metadata": {
        "id": "kw6QYycd7SVR"
      }
    },
    {
      "cell_type": "code",
      "source": [
        "\n",
        "from IPython.display import Image\n",
        "output_image = output\n",
        "Image(url=output_image[0])"
      ],
      "metadata": {
        "colab": {
          "base_uri": "https://localhost:8080/",
          "height": 534
        },
        "id": "7JWCVDHf3sYu",
        "outputId": "09c7daac-bdd8-4871-9035-cc89ff6b2800"
      },
      "execution_count": null,
      "outputs": [
        {
          "output_type": "execute_result",
          "data": {
            "text/html": [
              "<img src=\"https://replicate.delivery/pbxt/GC3OEJzpCG6eJKNO5xvpkoDKxAI9boK1qe5RKPleQITPph9jA/out-0.png\"/>"
            ],
            "text/plain": [
              "<IPython.core.display.Image object>"
            ]
          },
          "metadata": {},
          "execution_count": 4
        }
      ]
    },
    {
      "cell_type": "markdown",
      "source": [
        "# **5.  Create a dynamic gif animation \"**\n",
        "\n",
        "In this piece of code, the Replicate tool is used to make a video or GIF.\n",
        "\n",
        "As a result, it uses the \"andreasjansson/stable-diffusion-animation\" model to switch from a notice showing a cat sleeping to one showing a cat awake with wide eyes and yawning."
      ],
      "metadata": {
        "id": "U4dvFuOo7oxG"
      }
    },
    {
      "cell_type": "code",
      "source": [
        "# @title Video/gif/animation/Generation\n",
        "import replicate\n",
        "\n",
        "output = replicate.run(\n",
        "    \"andreasjansson/stable-diffusion-animation:ca1f5e306e5721e19c473e0d094e6603f0456fe759c10715fcd6c1b79242d4a5\",\n",
        "    input={\n",
        "        \"prompt_start\": \"frog is on a leaf in a pond\",\n",
        "        \"prompt_end\": \"frog jumped from one leaf to another\",\n",
        "        \"output_format\": \"gif\",\n",
        "        \"gif_ping_pong\": True\n",
        "    }\n",
        ")\n",
        "\n",
        "output\n"
      ],
      "metadata": {
        "colab": {
          "base_uri": "https://localhost:8080/"
        },
        "id": "6Owfxz0V3uov",
        "outputId": "3681cd48-8bac-4866-a87c-2728ee8a8521"
      },
      "execution_count": null,
      "outputs": [
        {
          "output_type": "execute_result",
          "data": {
            "text/plain": [
              "<generator object Prediction.output_iterator at 0x7d4f08d7d930>"
            ]
          },
          "metadata": {},
          "execution_count": 6
        }
      ]
    },
    {
      "cell_type": "markdown",
      "source": [
        "# **6.This code runs over output items and outputs details.**\n",
        "This method goes through the output items one by one, getting and sharing the information for each one and making links to data or details that are related to the video that was made. More details about the output structure can be found at the linked site.\n"
      ],
      "metadata": {
        "id": "5G1iqzb-76Jo"
      }
    },
    {
      "cell_type": "code",
      "source": [
        "# @title generate video\n",
        "for item in output:\n",
        "     #https://replicate.com/andreasjansson/stable-diffusion-animation/versions/ca1f5e306e5721e19c473e0d094e6603f0456fe759c10715fcd6c1b79242d4a5/api#output-schema\n",
        "    print(item)"
      ],
      "metadata": {
        "colab": {
          "base_uri": "https://localhost:8080/"
        },
        "id": "1bkyp74E3wcl",
        "outputId": "e0e49ee0-afd1-46b9-932a-d7482ceb9221"
      },
      "execution_count": null,
      "outputs": [
        {
          "output_type": "stream",
          "name": "stdout",
          "text": [
            "https://replicate.delivery/pbxt/eG3fwu4vt8k8uE3e1ybwHEVUO0wFrpl78z2QHJi7tVlO0h9jA/video.gif\n"
          ]
        }
      ]
    },
    {
      "cell_type": "markdown",
      "source": [
        "## **7.This code defines the 'gif_url' variable in Colab to hold the movie URL..**\n",
        "**\n",
        "In a Colab setting, this code creates a variable called gif_url that holds the created movie's URL. It makes it easy to get to the movie so that you can use it later or share it within the Colab notebook.\n",
        "\n"
      ],
      "metadata": {
        "id": "WK4etb_78Jq2"
      }
    },
    {
      "cell_type": "code",
      "source": [
        "\n",
        "# @title get the video on colab\n",
        "gif_url= item[0:len(item)]"
      ],
      "metadata": {
        "id": "exOI3-Rd3yn8"
      },
      "execution_count": null,
      "outputs": []
    },
    {
      "cell_type": "markdown",
      "source": [
        "# **8.This code loads a GIF from the URL and saves it in Colab for later use.**\n",
        "Plus, it saves the video to Colab as \"gif_output.gif\" and uses the PIL tool to get the saved GIF. It is written the right message if the fetch process fails."
      ],
      "metadata": {
        "id": "0J2u0K738Mk1"
      }
    },
    {
      "cell_type": "code",
      "source": [
        "# @title Show the video\n",
        "import requests\n",
        "from IPython.display import display, Image\n",
        "from PIL import Image as PILImage\n",
        "from io import BytesIO\n",
        "response = requests.get(gif_url)\n",
        "if response.status_code == 200:\n",
        "    # To Ddisplay the GIF in the notebook\n",
        "    display(Image(url=gif_url))\n",
        "\n",
        "    # To save the GIF in the Colab environment\n",
        "    with open(\"gif_output.gif\", \"wb\") as f:\n",
        "        f.write(response.content)\n",
        "\n",
        "    # TO show a saved GIF using PIL\n",
        "    saved_gif = PILImage.open(\"gif_output.gif\")\n",
        "    saved_gif.show()\n",
        "else:\n",
        "    print(\"Failed to fetch GIF\")\n"
      ],
      "metadata": {
        "colab": {
          "base_uri": "https://localhost:8080/",
          "height": 534
        },
        "id": "whx-a5Ne319x",
        "outputId": "ab1f1a44-a7bb-4b5a-c1a0-4c802daa1f2a",
        "cellView": "form"
      },
      "execution_count": null,
      "outputs": [
        {
          "output_type": "display_data",
          "data": {
            "text/html": [
              "<img src=\"https://replicate.delivery/pbxt/obfabVxduvzNGykw19hWQ9R1rowaw13Ekmcof0WkGwYYrtejA/video.gif\"/>"
            ],
            "text/plain": [
              "<IPython.core.display.Image object>"
            ]
          },
          "metadata": {}
        }
      ]
    },
    {
      "cell_type": "markdown",
      "source": [
        "#**REFERENCES**\n",
        "\n",
        "* Turna. GitHub. https://github.com/turna1/GenAI\n",
        "\n",
        "\n",
        "\n",
        "* Replicate.  https://replicate.com/account/api-tokens\n",
        "\n",
        "\n",
        "* Google Colab.https://colab.google/\n",
        "\n"
      ],
      "metadata": {
        "id": "gdi6nuQbG9U6"
      }
    },
    {
      "cell_type": "markdown",
      "source": [
        "# **VIDEO PRESENTATION LINK**"
      ],
      "metadata": {
        "id": "NnHs-jd0HCvd"
      }
    },
    {
      "cell_type": "markdown",
      "source": [
        "\n",
        "# **Thank You**\n",
        "\n"
      ],
      "metadata": {
        "id": "HyYFTY6SLLok"
      }
    }
  ]
}